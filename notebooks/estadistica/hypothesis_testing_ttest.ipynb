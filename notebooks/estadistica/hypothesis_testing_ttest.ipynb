{
 "cells": [
  {
   "cell_type": "markdown",
   "id": "31a5be36",
   "metadata": {},
   "source": [
    "# Prueba de hipótesis: t-test\n",
    "\n",
    "En este cuaderno se realiza una **prueba t de Student para muestras independientes** para comparar las medias de dos grupos.\n",
    "\n",
    "Se generan dos muestras de datos y se utiliza `scipy.stats.ttest_ind` para calcular el estadístico t y el valor p.\n"
   ]
  },
  {
   "cell_type": "code",
   "execution_count": null,
   "id": "4c868ba9",
   "metadata": {},
   "outputs": [],
   "source": [
    "\n",
    "import numpy as np\n",
    "from scipy import stats\n",
    "\n",
    "# Generar dos muestras de datos\n",
    "np.random.seed(42)\n",
    "group1 = np.random.normal(loc=5.0, scale=1.2, size=30)\n",
    "group2 = np.random.normal(loc=5.5, scale=1.3, size=28)\n",
    "\n",
    "# Realizar la prueba t\n",
    "stat, p_value = stats.ttest_ind(group1, group2, equal_var=False)\n",
    "\n",
    "print(\"Estadístico t:\", stat)\n",
    "print(\"Valor p:\", p_value)\n",
    "\n",
    "if p_value < 0.05:\n",
    "    print(\"Se rechaza la hipótesis nula: existen diferencias significativas entre los grupos.\")\n",
    "else:\n",
    "    print(\"No se puede rechazar la hipótesis nula: no se encontraron diferencias significativas.\")\n"
   ]
  }
 ],
 "metadata": {},
 "nbformat": 4,
 "nbformat_minor": 5
}
