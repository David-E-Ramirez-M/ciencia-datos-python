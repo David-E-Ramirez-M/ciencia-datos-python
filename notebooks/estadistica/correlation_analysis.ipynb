{
 "cells": [
  {
   "cell_type": "markdown",
   "id": "aa921ade",
   "metadata": {},
   "source": [
    "# Análisis de correlación\n",
    "\n",
    "En este cuaderno se genera un conjunto de datos aleatorio y se calcula su matriz de correlación. Se visualiza la matriz de correlación con un mapa de calor sencillo utilizando matplotlib. Este análisis es útil para identificar relaciones lineales entre variables numéricas.\n"
   ]
  },
  {
   "cell_type": "code",
   "execution_count": null,
   "id": "98f6aeac",
   "metadata": {},
   "outputs": [],
   "source": [
    "\n",
    "import numpy as np\n",
    "import pandas as pd\n",
    "import matplotlib.pyplot as plt\n",
    "\n",
    "# Generar datos aleatorios\n",
    "data = pd.DataFrame({\n",
    "    'Variable_A': np.random.randn(100),\n",
    "    'Variable_B': np.random.randn(100) * 0.5 + 1,\n",
    "    'Variable_C': np.random.randn(100) * 2 - 1\n",
    "})\n",
    "\n",
    "# Calcular matriz de correlación\n",
    "corr_matrix = data.corr()\n",
    "print(\"Matriz de correlación:\n",
    "\", corr_matrix)\n",
    "\n",
    "# Visualizar la matriz de correlación\n",
    "def plot_corr_matrix(corr):\n",
    "    fig, ax = plt.subplots(figsize=(5, 4))\n",
    "    cax = ax.matshow(corr, cmap='coolwarm')\n",
    "    plt.xticks(range(len(corr.columns)), corr.columns, rotation=45)\n",
    "    plt.yticks(range(len(corr.columns)), corr.columns)\n",
    "    fig.colorbar(cax)\n",
    "    for (i, j), val in np.ndenumerate(corr.values):\n",
    "        ax.text(j, i, f\"{val:.2f}\", ha='center', va='center', color='white' if abs(val) > 0.5 else 'black')\n",
    "    plt.title(\"Mapa de calor de correlación\")\n",
    "    plt.show()\n",
    "\n",
    "plot_corr_matrix(corr_matrix)\n"
   ]
  }
 ],
 "metadata": {},
 "nbformat": 4,
 "nbformat_minor": 5
}
