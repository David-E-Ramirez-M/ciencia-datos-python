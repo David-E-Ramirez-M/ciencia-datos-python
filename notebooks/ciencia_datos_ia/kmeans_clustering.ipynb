{
 "cells": [
  {
   "cell_type": "markdown",
   "id": "c966641f",
   "metadata": {},
   "source": [
    "# Clustering con K-means\n",
    "\n",
    "En este cuaderno se aplica el algoritmo **K-means** a un conjunto de datos simulado para realizar agrupamiento no supervisado.\n",
    "\n",
    "Se utiliza `make_blobs` para generar datos de ejemplo y `KMeans` de `scikit-learn` para encontrar los clusters.\n"
   ]
  },
  {
   "cell_type": "code",
   "execution_count": null,
   "id": "484a03a5",
   "metadata": {},
   "outputs": [],
   "source": [
    "\n",
    "from sklearn.datasets import make_blobs\n",
    "from sklearn.cluster import KMeans\n",
    "import numpy as np\n",
    "\n",
    "# Generar datos simulados\n",
    "X, y_true = make_blobs(n_samples=200, centers=3, cluster_std=0.60, random_state=0)\n",
    "\n",
    "# Ajustar KMeans\n",
    "kmeans = KMeans(n_clusters=3, random_state=0)\n",
    "kmeans.fit(X)\n",
    "labels = kmeans.labels_\n",
    "\n",
    "# Mostrar resultados\n",
    "unique, counts = np.unique(labels, return_counts=True)\n",
    "cluster_counts = dict(zip(unique, counts))\n",
    "print(\"Conteo de elementos en cada cluster:\", cluster_counts)\n"
   ]
  }
 ],
 "metadata": {},
 "nbformat": 4,
 "nbformat_minor": 5
}
