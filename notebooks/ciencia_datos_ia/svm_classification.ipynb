{
 "cells": [
  {
   "cell_type": "markdown",
   "id": "b806816c",
   "metadata": {},
   "source": [
    "# Clasificación con SVM\n",
    "\n",
    "Este cuaderno entrena un clasificador de Máquinas de Vectores de Soporte (SVM) utilizando el conjunto de datos Iris. Se divide el conjunto en entrenamiento y prueba, se entrena el modelo y se evalúa su exactitud.\n"
   ]
  },
  {
   "cell_type": "code",
   "execution_count": null,
   "id": "b3fa967b",
   "metadata": {},
   "outputs": [],
   "source": [
    "\n",
    "from sklearn.datasets import load_iris\n",
    "from sklearn.model_selection import train_test_split\n",
    "from sklearn.preprocessing import StandardScaler\n",
    "from sklearn.svm import SVC\n",
    "from sklearn.metrics import accuracy_score, confusion_matrix\n",
    "\n",
    "# Cargar datos\n",
    "iris = load_iris()\n",
    "X = iris.data\n",
    "y = iris.target\n",
    "\n",
    "# Dividir en entrenamiento y prueba\n",
    "X_train, X_test, y_train, y_test = train_test_split(X, y, test_size=0.3, random_state=42, stratify=y)\n",
    "\n",
    "# Estandarizar características\n",
    "scaler = StandardScaler()\n",
    "X_train_scaled = scaler.fit_transform(X_train)\n",
    "X_test_scaled = scaler.transform(X_test)\n",
    "\n",
    "# Entrenar modelo SVM\n",
    "clf = SVC(kernel='rbf', gamma='scale')\n",
    "clf.fit(X_train_scaled, y_train)\n",
    "\n",
    "# Evaluar modelo\n",
    "y_pred = clf.predict(X_test_scaled)\n",
    "accuracy = accuracy_score(y_test, y_pred)\n",
    "cm = confusion_matrix(y_test, y_pred)\n",
    "\n",
    "print(f\"Exactitud del modelo: {accuracy:.4f}\")\n",
    "print(\"\n",
    "Matriz de confusión:\n",
    "\", cm)\n"
   ]
  }
 ],
 "metadata": {},
 "nbformat": 4,
 "nbformat_minor": 5
}
