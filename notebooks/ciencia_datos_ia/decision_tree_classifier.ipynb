{
 "cells": [
  {
   "cell_type": "markdown",
   "id": "dcf0ea43",
   "metadata": {},
   "source": [
    "# Clasificador de Árbol de Decisión\n",
    "\n",
    "Este cuaderno utiliza un **árbol de decisión** para clasificar flores del conjunto de datos Iris.\n",
    "\n",
    "Se carga el conjunto de datos, se divide en entrenamiento y prueba, se entrena el modelo `DecisionTreeClassifier` y se evalúa su exactitud.\n"
   ]
  },
  {
   "cell_type": "code",
   "execution_count": null,
   "id": "5cc6ddb8",
   "metadata": {},
   "outputs": [],
   "source": [
    "\n",
    "from sklearn.datasets import load_iris\n",
    "from sklearn.model_selection import train_test_split\n",
    "from sklearn.tree import DecisionTreeClassifier\n",
    "from sklearn.metrics import accuracy_score\n",
    "\n",
    "# Cargar el conjunto de datos Iris\n",
    "X, y = load_iris(return_X_y=True)\n",
    "\n",
    "# Dividir datos en entrenamiento y prueba\n",
    "X_train, X_test, y_train, y_test = train_test_split(X, y, test_size=0.3, random_state=42)\n",
    "\n",
    "# Crear y entrenar el modelo de árbol de decisión\n",
    "clf = DecisionTreeClassifier(random_state=42)\n",
    "clf.fit(X_train, y_train)\n",
    "\n",
    "# Predecir en el conjunto de prueba\n",
    "predictions = clf.predict(X_test)\n",
    "\n",
    "# Calcular exactitud\n",
    "accuracy = accuracy_score(y_test, predictions)\n",
    "print(\"Exactitud del modelo:\", accuracy)\n"
   ]
  }
 ],
 "metadata": {},
 "nbformat": 4,
 "nbformat_minor": 5
}
