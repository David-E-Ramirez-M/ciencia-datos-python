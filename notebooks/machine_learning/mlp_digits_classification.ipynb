{
 "cells": [
  {
   "cell_type": "markdown",
   "id": "a847049b",
   "metadata": {},
   "source": [
    "# Clasificación de dígitos con Perceptrón Multicapa (MLP)\n",
    "\n",
    "En este cuaderno se construye un clasificador de dígitos manuscritos usando el algoritmo **Perceptrón Multicapa (MLP)** de `scikit‑learn`.\n",
    "\n",
    "El cuaderno describe:\n",
    "\n",
    "- Carga del conjunto de datos de dígitos de `sklearn`.\n",
    "- División en conjuntos de entrenamiento y prueba.\n",
    "- Escalado de las características con `StandardScaler`.\n",
    "- Entrenamiento de un clasificador `MLPClassifier`.\n",
    "- Evaluación del rendimiento mediante la exactitud y la matriz de confusión.\n",
    "\n",
    "Este tipo de red neuronal es capaz de aprender representaciones no lineales de los datos y es un ejemplo clásico de aprendizaje supervisado en problemas de clasificación.\n"
   ]
  },
  {
   "cell_type": "code",
   "execution_count": null,
   "id": "30aa9af6",
   "metadata": {},
   "outputs": [],
   "source": [
    "\n",
    "from sklearn.datasets import load_digits\n",
    "from sklearn.model_selection import train_test_split\n",
    "from sklearn.preprocessing import StandardScaler\n",
    "from sklearn.neural_network import MLPClassifier\n",
    "from sklearn.metrics import accuracy_score, confusion_matrix\n",
    "\n",
    "# Cargar el conjunto de datos de dígitos\n",
    "X, y = load_digits(return_X_y=True)\n",
    "\n",
    "# Dividir datos en entrenamiento y prueba\n",
    "X_train, X_test, y_train, y_test = train_test_split(X, y, test_size=0.3, random_state=42)\n",
    "\n",
    "# Escalar características\n",
    "scaler = StandardScaler()\n",
    "X_train_scaled = scaler.fit_transform(X_train)\n",
    "X_test_scaled = scaler.transform(X_test)\n",
    "\n",
    "# Crear y entrenar el modelo MLP\n",
    "mlp = MLPClassifier(hidden_layer_sizes=(100,), max_iter=500, random_state=42)\n",
    "mlp.fit(X_train_scaled, y_train)\n",
    "\n",
    "# Predecir sobre el conjunto de prueba\n",
    "predictions = mlp.predict(X_test_scaled)\n",
    "\n",
    "# Evaluar el modelo\n",
    "accuracy = accuracy_score(y_test, predictions)\n",
    "conf_mat = confusion_matrix(y_test, predictions)\n",
    "\n",
    "print(f\"Exactitud del modelo: {accuracy:.2f}\")\n",
    "print(\"Matriz de confusión:\\n\", conf_mat)\n"
   ]
  }
 ],
 "metadata": {},
 "nbformat": 4,
 "nbformat_minor": 5
}
