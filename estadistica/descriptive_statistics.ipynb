{
 "cells": [
  {
   "cell_type": "markdown",
   "id": "ab1a91ae",
   "metadata": {},
   "source": [
    "# Estadísticas descriptivas básicas\n",
    "\n",
    "En este cuaderno exploramos cómo calcular estadísticas descriptivas básicas con `numpy` y `pandas`.\n",
    "\n",
    "Se generará un conjunto de datos simulado y se calcularán medidas como la media, mediana, varianza y desviación estándar para ilustrar estos conceptos.\n"
   ]
  },
  {
   "cell_type": "code",
   "execution_count": null,
   "id": "21955dc5",
   "metadata": {},
   "outputs": [],
   "source": [
    "\n",
    "import numpy as np\n",
    "import pandas as pd\n",
    "\n",
    "# Generar un conjunto de datos simulado\n",
    "data = np.random.randn(100)\n",
    "\n",
    "# Crear un DataFrame para una mejor manipulación\n",
    "df = pd.DataFrame({'Valores': data})\n",
    "\n",
    "# Calcular estadísticas descriptivas\n",
    "mean = df['Valores'].mean()\n",
    "median = df['Valores'].median()\n",
    "variance = df['Valores'].var()\n",
    "std_dev = df['Valores'].std()\n",
    "\n",
    "print(\"Media:\", mean)\n",
    "print(\"Mediana:\", median)\n",
    "print(\"Varianza:\", variance)\n",
    "print(\"Desviación estándar:\", std_dev)\n"
   ]
  }
 ],
 "metadata": {},
 "nbformat": 4,
 "nbformat_minor": 5
}
