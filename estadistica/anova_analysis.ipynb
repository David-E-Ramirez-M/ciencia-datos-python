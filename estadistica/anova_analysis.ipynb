{
 "cells": [
  {
   "cell_type": "markdown",
   "id": "b957e36a",
   "metadata": {},
   "source": [
    "# Análisis de varianza (ANOVA)\n",
    "\n",
    "Este cuaderno muestra cómo realizar un **ANOVA de una vía** para comparar las medias de tres o más grupos.\n",
    "\n",
    "Se generan tres grupos de datos simulados y se utiliza `scipy.stats.f_oneway` para calcular el estadístico F y el valor p.\n"
   ]
  },
  {
   "cell_type": "code",
   "execution_count": null,
   "id": "dd4a3d77",
   "metadata": {},
   "outputs": [],
   "source": [
    "\n",
    "import numpy as np\n",
    "from scipy import stats\n",
    "\n",
    "# Generar tres grupos de datos\n",
    "np.random.seed(0)\n",
    "group_a = np.random.normal(loc=10, scale=2, size=20)\n",
    "group_b = np.random.normal(loc=12, scale=2, size=20)\n",
    "group_c = np.random.normal(loc=14, scale=2, size=20)\n",
    "\n",
    "# Realizar ANOVA\n",
    "f_stat, p_value = stats.f_oneway(group_a, group_b, group_c)\n",
    "\n",
    "print(\"Estadístico F:\", f_stat)\n",
    "print(\"Valor p:\", p_value)\n",
    "\n",
    "if p_value < 0.05:\n",
    "    print(\"Existen diferencias significativas entre las medias de los grupos.\")\n",
    "else:\n",
    "    print(\"No se encontraron diferencias significativas entre las medias de los grupos.\")\n"
   ]
  }
 ],
 "metadata": {},
 "nbformat": 4,
 "nbformat_minor": 5
}
