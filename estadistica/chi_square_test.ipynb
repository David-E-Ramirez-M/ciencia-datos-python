{
 "cells": [
  {
   "cell_type": "markdown",
   "id": "7107e3c0",
   "metadata": {},
   "source": [
    "# Prueba de chi-cuadrado de independencia\n",
    "\n",
    "Este cuaderno realiza una prueba de chi-cuadrado sobre una tabla de contingencia generada aleatoriamente. La prueba de chi-cuadrado permite evaluar si existe dependencia entre dos variables categóricas.\n"
   ]
  },
  {
   "cell_type": "code",
   "execution_count": null,
   "id": "a6ec2403",
   "metadata": {},
   "outputs": [],
   "source": [
    "\n",
    "import numpy as np\n",
    "from scipy.stats import chi2_contingency\n",
    "\n",
    "# Crear tabla de contingencia (2x3) con datos de conteo\n",
    "table = np.array([[20, 15, 30],\n",
    "                  [25, 30, 20]])\n",
    "\n",
    "# Mostrar la tabla de contingencia\n",
    "print(\"Tabla de contingencia:\n",
    "\", table)\n",
    "\n",
    "# Realizar la prueba de chi-cuadrado\n",
    "chi2, p, dof, expected = chi2_contingency(table)\n",
    "\n",
    "print(f\"\n",
    "Estadístico chi-cuadrado: {chi2:.4f}\")\n",
    "print(f\"Grados de libertad: {dof}\")\n",
    "print(f\"Valores esperados:\n",
    "{expected}\")\n",
    "print(f\"p-valor: {p:.4f}\")\n",
    "\n",
    "if p < 0.05:\n",
    "    print(\"Se rechaza la hipótesis nula. Existe evidencia de dependencia entre las variables.\")\n",
    "else:\n",
    "    print(\"No se puede rechazar la hipótesis nula. No hay evidencia suficiente de dependencia.\")\n"
   ]
  }
 ],
 "metadata": {},
 "nbformat": 4,
 "nbformat_minor": 5
}
