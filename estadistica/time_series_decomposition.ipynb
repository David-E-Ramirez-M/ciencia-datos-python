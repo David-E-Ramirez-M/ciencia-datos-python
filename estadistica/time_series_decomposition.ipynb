{
 "cells": [
  {
   "cell_type": "markdown",
   "id": "38a3bb12",
   "metadata": {},
   "source": [
    "# Descomposición de series temporales\n",
    "\n",
    "Se genera una serie temporal con componente tendencial y estacional. Luego se aplica la descomposición aditiva utilizando `statsmodels` para separar la tendencia, la estacionalidad y el residuo. Finalmente se visualizan los componentes.\n"
   ]
  },
  {
   "cell_type": "code",
   "execution_count": null,
   "id": "2e42dff9",
   "metadata": {},
   "outputs": [],
   "source": [
    "\n",
    "import numpy as np\n",
    "import pandas as pd\n",
    "import matplotlib.pyplot as plt\n",
    "from statsmodels.tsa.seasonal import seasonal_decompose\n",
    "\n",
    "# Generar una serie temporal con tendencia y estacionalidad\n",
    "np.random.seed(0)\n",
    "time_index = pd.date_range(start='2020-01-01', periods=120, freq='M')\n",
    "trend = np.linspace(0, 10, len(time_index))\n",
    "seasonal = 5 * np.sin(2 * np.pi * time_index.month / 12)\n",
    "noise = np.random.normal(scale=2, size=len(time_index))\n",
    "series = trend + seasonal + noise\n",
    "\n",
    "series = pd.Series(series, index=time_index)\n",
    "\n",
    "# Descomposición aditiva\n",
    "result = seasonal_decompose(series, model='additive', period=12)\n",
    "\n",
    "# Visualizar los componentes\n",
    "fig = result.plot()\n",
    "fig.set_size_inches(8, 6)\n",
    "plt.suptitle('Descomposición de la serie temporal')\n",
    "plt.tight_layout()\n",
    "plt.show()\n"
   ]
  }
 ],
 "metadata": {},
 "nbformat": 4,
 "nbformat_minor": 5
}
