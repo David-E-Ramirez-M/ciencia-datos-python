{
 "cells": [
  {
   "cell_type": "markdown",
   "id": "d4b3a656",
   "metadata": {},
   "source": [
    "# Modelo de regresión con Gradient Boosting\n",
    "\n",
    "Este cuaderno muestra un ejemplo de regresión utilizando un modelo de **Gradient Boosting** con el conjunto de datos de precios de viviendas de Boston proporcionado por `scikit‑learn`.\n",
    "\n",
    "El flujo de trabajo incluye:\n",
    "\n",
    "- Carga y exploración del conjunto de datos.\n",
    "- División en conjuntos de entrenamiento y prueba.\n",
    "- Entrenamiento de un modelo `GradientBoostingRegressor`.\n",
    "- Evaluación del modelo usando el error cuadrático medio (MSE) y el coeficiente de determinación ($R^2$).\n",
    "\n",
    "> **Nota:** El conjunto de datos de Boston Housing está disponible en scikit‑learn para fines educativos, pero puede contener sesgos históricos.\n"
   ]
  },
  {
   "cell_type": "code",
   "execution_count": null,
   "id": "f5ae7ce6",
   "metadata": {},
   "outputs": [],
   "source": [
    "\n",
    "from sklearn.datasets import load_boston\n",
    "from sklearn.model_selection import train_test_split\n",
    "from sklearn.ensemble import GradientBoostingRegressor\n",
    "from sklearn.metrics import mean_squared_error, r2_score\n",
    "import pandas as pd\n",
    "\n",
    "# Cargar el conjunto de datos de Boston Housing\n",
    "boston = load_boston()\n",
    "X = pd.DataFrame(boston.data, columns=boston.feature_names)\n",
    "y = pd.Series(boston.target, name='MEDV')  # precio mediano de la vivienda en miles de dólares\n",
    "\n",
    "# Dividir datos en entrenamiento y prueba\n",
    "X_train, X_test, y_train, y_test = train_test_split(X, y, test_size=0.3, random_state=42)\n",
    "\n",
    "# Crear y entrenar el modelo Gradient Boosting\n",
    "model = GradientBoostingRegressor(random_state=42)\n",
    "model.fit(X_train, y_train)\n",
    "\n",
    "# Hacer predicciones en el conjunto de prueba\n",
    "predictions = model.predict(X_test)\n",
    "\n",
    "# Evaluar el modelo\n",
    "mse = mean_squared_error(y_test, predictions)\n",
    "r2 = r2_score(y_test, predictions)\n",
    "\n",
    "print(f\"Error cuadrático medio (MSE): {mse:.2f}\")\n",
    "print(f\"Coeficiente de determinación (R^2): {r2:.2f}\")\n"
   ]
  }
 ],
 "metadata": {},
 "nbformat": 4,
 "nbformat_minor": 5
}
