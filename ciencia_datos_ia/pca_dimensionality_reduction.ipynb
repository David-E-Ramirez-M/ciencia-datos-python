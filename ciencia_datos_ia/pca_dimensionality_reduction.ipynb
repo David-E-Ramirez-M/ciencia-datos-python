{
 "cells": [
  {
   "cell_type": "markdown",
   "id": "9613b254",
   "metadata": {},
   "source": [
    "# Reducción de dimensionalidad con PCA\n",
    "\n",
    "En este cuaderno se aplica el Análisis de Componentes Principales (PCA) al conjunto de datos Iris. Se reduce la dimensionalidad a dos componentes y se muestran las proporciones de varianza explicada y un diagrama de dispersión de las nuevas componentes.\n"
   ]
  },
  {
   "cell_type": "code",
   "execution_count": null,
   "id": "e51d938d",
   "metadata": {},
   "outputs": [],
   "source": [
    "\n",
    "from sklearn.datasets import load_iris\n",
    "from sklearn.preprocessing import StandardScaler\n",
    "from sklearn.decomposition import PCA\n",
    "import matplotlib.pyplot as plt\n",
    "import pandas as pd\n",
    "\n",
    "# Cargar datos\n",
    "iris = load_iris()\n",
    "X = iris.data\n",
    "y = iris.target\n",
    "\n",
    "# Estandarizar características\n",
    "scaler = StandardScaler()\n",
    "X_scaled = scaler.fit_transform(X)\n",
    "\n",
    "# Aplicar PCA\n",
    "pca = PCA(n_components=2)\n",
    "X_pca = pca.fit_transform(X_scaled)\n",
    "\n",
    "print('Varianza explicada por cada componente:', pca.explained_variance_ratio_)\n",
    "print('Varianza explicada acumulada:', pca.explained_variance_ratio_.sum())\n",
    "\n",
    "# Crear DataFrame para graficar\n",
    "pca_df = pd.DataFrame(X_pca, columns=['PC1', 'PC2'])\n",
    "pca_df['species'] = y\n",
    "\n",
    "# Visualizar\n",
    "plt.figure(figsize=(6, 5))\n",
    "for species in range(3):\n",
    "    subset = pca_df[pca_df['species'] == species]\n",
    "    plt.scatter(subset['PC1'], subset['PC2'], label=iris.target_names[species], alpha=0.7)\n",
    "plt.xlabel('Componente principal 1')\n",
    "plt.ylabel('Componente principal 2')\n",
    "plt.title('PCA aplicado al conjunto de datos Iris')\n",
    "plt.legend()\n",
    "plt.show()\n"
   ]
  }
 ],
 "metadata": {},
 "nbformat": 4,
 "nbformat_minor": 5
}
